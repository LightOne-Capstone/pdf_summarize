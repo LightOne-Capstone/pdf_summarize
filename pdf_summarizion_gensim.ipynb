{
  "nbformat": 4,
  "nbformat_minor": 0,
  "metadata": {
    "colab": {
      "name": "pdf_summarizion_gensim.ipynb",
      "provenance": []
    },
    "kernelspec": {
      "name": "python3",
      "display_name": "Python 3"
    },
    "language_info": {
      "name": "python"
    }
  },
  "cells": [
    {
      "cell_type": "code",
      "execution_count": 2,
      "metadata": {
        "id": "uCP8ZlPNhiiR"
      },
      "outputs": [],
      "source": [
        "import tkinter as tk\n",
        "from tkinter.filedialog import askopenfilename\n",
        "import os\n",
        "import gensim.summarization\n",
        "from IPython.display import display, Markdown, clear_output\n",
        "import ipywidgets as widgets"
      ]
    },
    {
      "cell_type": "code",
      "source": [
        "def summarise(text, word_count):\n",
        "    \"\"\"Uses text summarization to produce a summary of the text passed in\n",
        "    Args:\n",
        "        text (str): The text to summarize\n",
        "        word_count (int, optional): The maximum number of words to limit the summary to. Defaults to 300.\n",
        "    Returns:\n",
        "        str: A summarized version of the text passed in.\n",
        "    \"\"\"\n",
        "    if text == \"\": # If the text passed in is empty, return an empty string\n",
        "        return \"\"\n",
        "\n",
        "    # There are a lot of combinations of text in the input that can be preprocessed.\n",
        "    # The code below is a simple example of the sort of preprocessing that can inprove the summarizrion\n",
        "    striptext = text.replace('\\n\\n', ' ') # Replace double carriage return linefeed with a space\n",
        "    striptext = striptext.replace('\\n', ' ') # Replace single carriage return linefeed with a space\n",
        "    striptext = striptext.replace('\\t', ' ') # Replace tab with a space\n",
        "    striptext = striptext.replace('i.e.', '[[ie]]') # Replace i.e. as it is interpreted as two sentences separated by full stops\n",
        "    \n",
        "    # Use gensim.summarization.summarize to summarize the text. The internal process is to tokenize the sentences and \n",
        "    # words, then assign importance to the words through frequency and other techniques and then to establish the scoring \n",
        "    # and weighting for each sentence.\n",
        "    summary = gensim.summarization.summarize(striptext, word_count=word_count)\n",
        "    \n",
        "    # A simple example of post-processing - replace the full stops with a full stops, next line and put any instances of\n",
        "    # i.e. back as they were before the pre-processing. Lastly return the summarization.\n",
        "    return summary.replace(\".\", \"\\n\").replace('[[ie]]', 'i.e.') "
      ],
      "metadata": {
        "id": "b9SwTuAqhwa0"
      },
      "execution_count": 11,
      "outputs": []
    },
    {
      "cell_type": "code",
      "source": [
        "text = \"\"\"\n",
        "투자의견 매수, 목표주가 100,000원 유지.\n",
        "2022년 EPS 3.331원에 Target PER 29.3배 적용.\n",
        "Target PER은 글로벌 게임 peer의 2021년 PER 평균 대비 20% 할증 적용.\n",
        "동사의 P2E/NFT 게임 사업에 대한 기대감 반영하여 20% 프리미엄 적용.\n",
        "연간 매출 1조원 달성. \n",
        "오딘의 매출 안정화와 신사업의 성장세 4분기 매출액 2,867억원, 영업이익 479억원기록. \n",
        "컨센서스 하회하는 실적 기록. \n",
        "자회사 라이온하트스튜디오의 연결 편입 과정에서 공정가치평가를 통한 일시적 수익 발생으로 당기순이익 4,573억원 기록.\n",
        "모바일 게임 매출 2,000억원 기록. \n",
        "가장 비중이 큰 오딘 매출의 하향 안정화 영향. 오딘의 평균 일매출 17억원 수준으로 추정.\n",
        "대만 출시를 위해, 2/10부터 양대 마켓에서의 사전 예약 시작과 본격적인\n",
        "마케팅 진행 예정. 오딘의 2022년 한국과 대만의 일 평균 매출은 각각 15억, 7억원으로 추정. PC 게임 매출 193억원 기록.\n",
        "기타 매출에 반영되는 카카오VX는 매 분기 최고 실적 기록. \n",
        "골프에 대한 관심이 커지면서 동사의 골프 연습장 사업 역시 지속적으로 성장할 것으로 기대. \n",
        "이외에 세나테크놀로지가 4분기부터 연결 실적에 편입되면서 매출 성장에 기여. \n",
        "4분기 매출 증가에는 기여했으나, 반도체 수급 이슈에 따라 해당 사업부의 매출원가 증가로 이익은 감소. \n",
        "2022년부터는 반도체 수급 이슈가 해소됨에 따라 이익 개선 기대.\n",
        "P2E 방향성은 확인. 다만, 신중하고 천천히\n",
        "2/8 진행했던 보라 2.0 브랜딩 행사에서 2Q22부터 출시될 10여 종의 게임 장르 공개. \n",
        "가장 기대가 컸던 오딘의 P2E 도입은 공개하지 않았으며, 회사는 대만 출시를 통한 오딘의 글로벌 IP로서의 성장에 집중할 것으로 발표.\n",
        "회사의 향후 성장성을 위해 P2E 게임을 기반으로 토큰 이코노미 및 블록체인 생태계 구축의 방향성은 확인. \n",
        "단, 현재 P2E 라인업 공개에 집중하기 보다, 여러 파트너사들과 고도화된 토큰 이코노미 구축을 위한 협력 단계. \n",
        "단기적으로 P2E 라인업을 구체적으로 공개하지 않은 것이 회사의 전반적인 사업 기조를 바꾸지는 않을 것.\n",
        "\"\"\"\n",
        "\n",
        "summarise(text, 50)"
      ],
      "metadata": {
        "colab": {
          "base_uri": "https://localhost:8080/",
          "height": 53
        },
        "id": "Ri_fLNBRiA1p",
        "outputId": "ae5aa8cc-b0e2-4671-b794-dbb2abfcf96c"
      },
      "execution_count": 12,
      "outputs": [
        {
          "output_type": "execute_result",
          "data": {
            "application/vnd.google.colaboratory.intrinsic+json": {
              "type": "string"
            },
            "text/plain": [
              "'Target PER은 글로벌 게임 peer의 2021년 PER 평균 대비 20% 할증 적용\\n\\n가장 기대가 컸던 오딘의 P2E 도입은 공개하지 않았으며, 회사는 대만 출시를 통한 오딘의 글로벌 IP로서의 성장에 집중할 것으로 발표\\n\\n회사의 향후 성장성을 위해 P2E 게임을 기반으로 토큰 이코노미 및 블록체인 생태계 구축의 방향성은 확인\\n'"
            ]
          },
          "metadata": {},
          "execution_count": 12
        }
      ]
    },
    {
      "cell_type": "code",
      "source": [
        ""
      ],
      "metadata": {
        "id": "39cecN2-iii8"
      },
      "execution_count": null,
      "outputs": []
    }
  ]
}